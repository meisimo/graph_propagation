{
 "cells": [
  {
   "cell_type": "code",
   "execution_count": 1,
   "id": "4d0a6130-f8ba-4841-ad42-a400f9b20be5",
   "metadata": {},
   "outputs": [],
   "source": [
    "import graph_propagation as gp\n",
    "from matplotlib import pyplot as plt\n",
    "%matplotlib inline"
   ]
  },
  {
   "cell_type": "code",
   "execution_count": 2,
   "id": "8111fbe5-9d59-444e-9b55-a37454efc5b2",
   "metadata": {},
   "outputs": [],
   "source": [
    "inputs = (\n",
    "    ('comunity_circle_h1', ['p19', 'p3', 'p55']        , 1),\n",
    "    ('small_world_1'     , ['p33', 'p83']              , 1),\n",
    "    ('free_scale_1'      , ['p44', 'p85', 'p64', 'p82'], 1),\n",
    ")"
   ]
  },
  {
   "cell_type": "code",
   "execution_count": 3,
   "id": "2c5c1621-c4bc-4e79-b887-1bbdf0fd5c72",
   "metadata": {},
   "outputs": [],
   "source": [
    "def print_table(file_name, nodes_to, k):\n",
    "    adjs, nodes = gp.load_adj_from_file(file_name)\n",
    "    B           = gp.propagation(adjs, k)\n",
    "\n",
    "    print(f\"|{'NODO':<5}|{'KNOWLEDGE':>11}|{'POPULARITY':>11}|\")\n",
    "    print(\"-\"*(4 + 5 + 11 + 11))\n",
    "    for n in nodes_to:\n",
    "        n_k = gp.node_knowledge(B, nodes, n)\n",
    "        n_p = gp.node_popularity(B, nodes, n)\n",
    "        print(f\"|{n.upper():<5}|{n_k:11}|{n_p:11}|\")"
   ]
  },
  {
   "cell_type": "code",
   "execution_count": 4,
   "id": "4ec03d37-fbda-449b-8bd3-cabaf9620e6a",
   "metadata": {},
   "outputs": [],
   "source": [
    "def plot_results(file_name, nodes_to, k):\n",
    "    adjs, nodes = gp.load_adj_from_file(file_name)\n",
    "    B           = gp.propagation(adjs, k)\n",
    "\n",
    "    popularities = [gp.node_popularity(B, nodes, k) for k in nodes]\n",
    "    \n",
    "    plt.title(\" \".join(w.capitalize() for w in file_name.split(\"_\")))\n",
    "    plt.ylabel(\"Popularidad por Nodo\")\n",
    "    \n",
    "    plt.boxplot(popularities)\n",
    "    \n",
    "    plt.show()"
   ]
  },
  {
   "cell_type": "code",
   "execution_count": 5,
   "id": "7f6722ca-a062-4784-b306-e5bb52114fb5",
   "metadata": {},
   "outputs": [
    {
     "name": "stdout",
     "output_type": "stream",
     "text": [
      "|NODO |  KNOWLEDGE| POPULARITY|\n",
      "-------------------------------\n",
      "|P19  |          3|          3|\n",
      "|P3   |          5|          5|\n",
      "|P55  |          2|          2|\n",
      "\n",
      "\n"
     ]
    },
    {
     "data": {
      "image/png": "[encoded data removed]",
      "text/plain": [
       "<Figure size 432x288 with 1 Axes>"
      ]
     },
     "metadata": {
      "needs_background": "light"
     },
     "output_type": "display_data"
    },
    {
     "name": "stdout",
     "output_type": "stream",
     "text": [
      "\n",
      "\n",
      "\n",
      "\n",
      "|NODO |  KNOWLEDGE| POPULARITY|\n",
      "-------------------------------\n",
      "|P33  |          4|          4|\n",
      "|P83  |          4|          4|\n",
      "\n",
      "\n"
     ]
    },
    {
     "data": {
      "image/png": "[encoded data removed]",
      "text/plain": [
       "<Figure size 432x288 with 1 Axes>"
      ]
     },
     "metadata": {
      "needs_background": "light"
     },
     "output_type": "display_data"
    },
    {
     "name": "stdout",
     "output_type": "stream",
     "text": [
      "\n",
      "\n",
      "\n",
      "\n",
      "|NODO |  KNOWLEDGE| POPULARITY|\n",
      "-------------------------------\n",
      "|P44  |          2|          2|\n",
      "|P85  |          2|          2|\n",
      "|P64  |          2|          2|\n",
      "|P82  |          2|          2|\n",
      "\n",
      "\n"
     ]
    },
    {
     "data": {
      "image/png": "[encoded data removed]",
      "text/plain": [
       "<Figure size 432x288 with 1 Axes>"
      ]
     },
     "metadata": {
      "needs_background": "light"
     },
     "output_type": "display_data"
    },
    {
     "name": "stdout",
     "output_type": "stream",
     "text": [
      "\n",
      "\n",
      "\n",
      "\n"
     ]
    }
   ],
   "source": [
    "for f_name, nodes, k in inputs:\n",
    "    print_table(f_name, nodes, k)\n",
    "    print(\"\\n\")\n",
    "    plot_results(f_name, nodes, k)\n",
    "    print(\"\\n\\n\\n\")"
   ]
  }
 ],
 "metadata": {
  "kernelspec": {
   "display_name": "Python 3 (ipykernel)",
   "language": "python",
   "name": "python3"
  },
  "language_info": {
   "codemirror_mode": {
    "name": "ipython",
    "version": 3
   },
   "file_extension": ".py",
   "mimetype": "text/x-python",
   "name": "python",
   "nbconvert_exporter": "python",
   "pygments_lexer": "ipython3",
   "version": "3.8.10"
  }
 },
 "nbformat": 4,
 "nbformat_minor": 5
}
